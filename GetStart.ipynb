{
  "nbformat": 4,
  "nbformat_minor": 0,
  "metadata": {
    "colab": {
      "provenance": [],
      "authorship_tag": "ABX9TyNiFlnBGQxsIGNEf/WbOq5L",
      "include_colab_link": true
    },
    "kernelspec": {
      "name": "python3",
      "display_name": "Python 3"
    },
    "language_info": {
      "name": "python"
    }
  },
  "cells": [
    {
      "cell_type": "markdown",
      "metadata": {
        "id": "view-in-github",
        "colab_type": "text"
      },
      "source": [
        "<a href=\"https://colab.research.google.com/github/Hongyoosung/Deep-learning-Introduction/blob/main/GetStart.ipynb\" target=\"_parent\"><img src=\"https://colab.research.google.com/assets/colab-badge.svg\" alt=\"Open In Colab\"/></a>"
      ]
    },
    {
      "cell_type": "code",
      "source": [
        "import numpy as np\n",
        "import matplotlib.pyplot as plt\n",
        "from sklearn.datasets import load_diabetes\n",
        "diabetes = load_diabetes()\n"
      ],
      "metadata": {
        "id": "anw2wzpxOmSA"
      },
      "execution_count": 2,
      "outputs": []
    },
    {
      "cell_type": "code",
      "source": [
        "x = diabetes.data[:,2]\n",
        "y = diabetes.target\n",
        "w = 1.0\n",
        "b = 1.0"
      ],
      "metadata": {
        "id": "21stLL0NtN7Q"
      },
      "execution_count": 3,
      "outputs": []
    },
    {
      "cell_type": "code",
      "source": [
        "y_hat = x[0] * w + b\n",
        "print(y_hat)"
      ],
      "metadata": {
        "colab": {
          "base_uri": "https://localhost:8080/"
        },
        "id": "jhLVZsEerqlh",
        "outputId": "ffc5d59c-cf88-4910-8315-3fcb1e65bdf6"
      },
      "execution_count": 4,
      "outputs": [
        {
          "output_type": "stream",
          "name": "stdout",
          "text": [
            "1.0616962065186832\n"
          ]
        }
      ]
    },
    {
      "cell_type": "code",
      "source": [
        "print(y[0])"
      ],
      "metadata": {
        "colab": {
          "base_uri": "https://localhost:8080/"
        },
        "id": "tu-fxCIMsPFx",
        "outputId": "b5e9834a-c4aa-4c8e-dc18-7b09c66bed1b"
      },
      "execution_count": 5,
      "outputs": [
        {
          "output_type": "stream",
          "name": "stdout",
          "text": [
            "151.0\n"
          ]
        }
      ]
    },
    {
      "cell_type": "code",
      "source": [
        "w_inc = w + 0.1\n",
        "y_hat_inc = x[0] * w_inc + b\n",
        "print(y_hat_inc)"
      ],
      "metadata": {
        "colab": {
          "base_uri": "https://localhost:8080/"
        },
        "id": "Ux343bnhtLKC",
        "outputId": "06c1121e-32d2-4f9a-93d3-e5456aa05f0c"
      },
      "execution_count": 6,
      "outputs": [
        {
          "output_type": "stream",
          "name": "stdout",
          "text": [
            "1.0678658271705517\n"
          ]
        }
      ]
    },
    {
      "cell_type": "code",
      "source": [
        "w_rate = (y_hat_inc - y_hat) / (w_inc - w)\n",
        "print(w_rate)"
      ],
      "metadata": {
        "colab": {
          "base_uri": "https://localhost:8080/"
        },
        "id": "lzRIj_TztL9B",
        "outputId": "746c5bcd-9a9d-4afd-e974-04409adad52c"
      },
      "execution_count": 7,
      "outputs": [
        {
          "output_type": "stream",
          "name": "stdout",
          "text": [
            "0.06169620651868429\n"
          ]
        }
      ]
    },
    {
      "cell_type": "code",
      "source": [
        "# prompt: w_new = w + w_rate\n",
        "# print(w_new)\n",
        "\n",
        "w_new = w + w_rate\n",
        "print(w_new)\n"
      ],
      "metadata": {
        "id": "3frF5FUsuStL",
        "colab": {
          "base_uri": "https://localhost:8080/"
        },
        "outputId": "54caf1fb-96c9-4275-800d-03293d06b701"
      },
      "execution_count": 8,
      "outputs": [
        {
          "output_type": "stream",
          "name": "stdout",
          "text": [
            "1.0616962065186843\n"
          ]
        }
      ]
    },
    {
      "cell_type": "code",
      "source": [
        "b_inc = b + 0.1\n",
        "y_hat_inc = x[0] * w + b_inc\n",
        "print(y_hat_inc)"
      ],
      "metadata": {
        "colab": {
          "base_uri": "https://localhost:8080/"
        },
        "id": "PFrnqHuLkHum",
        "outputId": "de752489-1a0a-420a-8d25-d7270720f19c"
      },
      "execution_count": 9,
      "outputs": [
        {
          "output_type": "stream",
          "name": "stdout",
          "text": [
            "1.1616962065186833\n"
          ]
        }
      ]
    },
    {
      "cell_type": "code",
      "source": [
        "b_rate = (y_hat_inc - y_hat) / (b_inc - b)\n",
        "print(b_rate)"
      ],
      "metadata": {
        "colab": {
          "base_uri": "https://localhost:8080/"
        },
        "id": "qmWEQJaOkHvQ",
        "outputId": "fbfdd2fe-6526-4942-f9d2-c0a8b5e1409f"
      },
      "execution_count": 12,
      "outputs": [
        {
          "output_type": "stream",
          "name": "stdout",
          "text": [
            "1.0\n"
          ]
        }
      ]
    },
    {
      "cell_type": "code",
      "source": [
        "b_new = b + 1\n",
        "print(b_new)"
      ],
      "metadata": {
        "colab": {
          "base_uri": "https://localhost:8080/"
        },
        "id": "SXReZn31kVSf",
        "outputId": "3ddaf6b4-bdc2-4c37-f5f0-b9dd1ee6356b"
      },
      "execution_count": 13,
      "outputs": [
        {
          "output_type": "stream",
          "name": "stdout",
          "text": [
            "2.0\n"
          ]
        }
      ]
    },
    {
      "cell_type": "code",
      "source": [
        "err = y[0] - y_hat\n",
        "w_new = w + w_rate * err\n",
        "b_new = b + 1 * err\n",
        "print(w_new, b_new)"
      ],
      "metadata": {
        "colab": {
          "base_uri": "https://localhost:8080/"
        },
        "id": "mhM4Sq_Mo9GD",
        "outputId": "8d880a85-1db5-4c3f-9ae4-80bee7b89d99"
      },
      "execution_count": 14,
      "outputs": [
        {
          "output_type": "stream",
          "name": "stdout",
          "text": [
            "10.250624555903848 150.9383037934813\n"
          ]
        }
      ]
    },
    {
      "cell_type": "code",
      "source": [
        "y_hat = x[1] * w_new + b_new\n",
        "err = y[1] - y_hat\n",
        "w_rate = x[1]\n",
        "w_new = w_new + w_rate * err\n",
        "b_new = b_new + 1 * err\n",
        "print(w_new, b_new)"
      ],
      "metadata": {
        "colab": {
          "base_uri": "https://localhost:8080/"
        },
        "id": "cW04qbMDspS8",
        "outputId": "78e8e064-a4f7-4f06-bbcb-5139c31f82ef"
      },
      "execution_count": 15,
      "outputs": [
        {
          "output_type": "stream",
          "name": "stdout",
          "text": [
            "14.132317616380695 75.52764127612656\n"
          ]
        }
      ]
    },
    {
      "cell_type": "code",
      "source": [
        "for x_i, y_i in zip(x, y):\n",
        "\ty_hat = x_i * w + b\n",
        "\terr = y_i - y_hat\n",
        "\tw_rate = x_i\n",
        "\tw = w + w_rate * err\n",
        "\tb = b + 1 * err\n",
        "print(w, b)"
      ],
      "metadata": {
        "colab": {
          "base_uri": "https://localhost:8080/"
        },
        "id": "JeVfnmOIspto",
        "outputId": "1279472e-8b6d-40c5-f021-bfb5e3393025"
      },
      "execution_count": 19,
      "outputs": [
        {
          "output_type": "stream",
          "name": "stdout",
          "text": [
            "872.126214564517 120.34047875461778\n"
          ]
        }
      ]
    },
    {
      "cell_type": "code",
      "source": [
        "for i in range(1, 100):\n",
        "\tfor x_i, y_i in zip(x, y):\n",
        "\t\ty_hat = x_i * w + b\n",
        "\t\terr = y_i - y_hat\n",
        "\t\tw_rate = x_i\n",
        "\t\tw = w + w_rate * err\n",
        "\t\tb = b + 1 * err\n",
        "print(w, b)"
      ],
      "metadata": {
        "colab": {
          "base_uri": "https://localhost:8080/"
        },
        "id": "ANlWjUOTumAm",
        "outputId": "754a0fa0-7e78-4945-b353-bd5456d79b05"
      },
      "execution_count": 21,
      "outputs": [
        {
          "output_type": "stream",
          "name": "stdout",
          "text": [
            "913.5973364346786 123.39414383177173\n"
          ]
        }
      ]
    },
    {
      "cell_type": "code",
      "source": [
        "plt.scatter(x, y)\n",
        "pt1 = (-0.1, -0.1 * w + b)\n",
        "pt2 = (0.15, 0.15 * w + b)\n",
        "plt.plot([pt1[0], pt2[0]], [pt1[1], pt2[1]])\n",
        "plt.xlabel('x')\n",
        "plt.ylabel('y')\n",
        "plt.show()"
      ],
      "metadata": {
        "id": "Yceh-0l-tcWB"
      },
      "execution_count": null,
      "outputs": []
    },
    {
      "cell_type": "code",
      "source": [
        "x_new = 0.18\n",
        "y_pred = x_new * w + b\n",
        "print(y_pred)"
      ],
      "metadata": {
        "colab": {
          "base_uri": "https://localhost:8080/"
        },
        "id": "uoiyHv1PxXWf",
        "outputId": "79c95845-429d-415f-ce7c-ad68c64ee875"
      },
      "execution_count": 23,
      "outputs": [
        {
          "output_type": "stream",
          "name": "stdout",
          "text": [
            "287.8416643900139\n"
          ]
        }
      ]
    },
    {
      "cell_type": "code",
      "source": [
        "plt.scatter(x, y)\n",
        "plt.scatter(x_new, y_pred)\n",
        "plt.xlabel('x')\n",
        "plt.ylabel('y')\n",
        "plt.show()"
      ],
      "metadata": {
        "id": "QFHrUtgAxXXO"
      },
      "execution_count": null,
      "outputs": []
    },
    {
      "cell_type": "code",
      "source": [
        "y_hat = x_i * w + b\n",
        "err = y_i - y_hat\n",
        "w_rate = x_i\n",
        "w = w + w_rate * err"
      ],
      "metadata": {
        "id": "vyYuFHypxqgW"
      },
      "execution_count": 27,
      "outputs": []
    },
    {
      "cell_type": "code",
      "source": [],
      "metadata": {
        "id": "zAjIng0QFF1z"
      },
      "execution_count": null,
      "outputs": []
    }
  ]
}