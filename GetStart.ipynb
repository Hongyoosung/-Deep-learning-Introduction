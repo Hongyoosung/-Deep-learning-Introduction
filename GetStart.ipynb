{
  "nbformat": 4,
  "nbformat_minor": 0,
  "metadata": {
    "colab": {
      "provenance": [],
      "authorship_tag": "ABX9TyPGM/D443yq1RO/iSQm9w1u",
      "include_colab_link": true
    },
    "kernelspec": {
      "name": "python3",
      "display_name": "Python 3"
    },
    "language_info": {
      "name": "python"
    }
  },
  "cells": [
    {
      "cell_type": "markdown",
      "metadata": {
        "id": "view-in-github",
        "colab_type": "text"
      },
      "source": [
        "<a href=\"https://colab.research.google.com/github/Hongyoosung/Deep-learning-Introduction/blob/main/GetStart.ipynb\" target=\"_parent\"><img src=\"https://colab.research.google.com/assets/colab-badge.svg\" alt=\"Open In Colab\"/></a>"
      ]
    },
    {
      "cell_type": "code",
      "source": [
        "import numpy as np\n",
        "import matplotlib.pyplot as plt\n",
        "from sklearn.datasets import load_diabetes\n",
        "diabetes = load_diabetes()\n"
      ],
      "metadata": {
        "id": "anw2wzpxOmSA"
      },
      "execution_count": null,
      "outputs": []
    },
    {
      "cell_type": "code",
      "source": [
        "x = diabetes.data[:,2]\n",
        "y = diabetes.target\n",
        "w = 1.0\n",
        "b = 1.0"
      ],
      "metadata": {
        "id": "21stLL0NtN7Q"
      },
      "execution_count": null,
      "outputs": []
    },
    {
      "cell_type": "code",
      "source": [
        "y_hat = x[0] * w + b\n",
        "print(y_hat)"
      ],
      "metadata": {
        "colab": {
          "base_uri": "https://localhost:8080/"
        },
        "id": "jhLVZsEerqlh",
        "outputId": "274d5f16-77cc-4a28-8266-14305060abf5"
      },
      "execution_count": null,
      "outputs": [
        {
          "output_type": "stream",
          "name": "stdout",
          "text": [
            "1.0616962065186832\n"
          ]
        }
      ]
    },
    {
      "cell_type": "code",
      "source": [
        "print(y[0])"
      ],
      "metadata": {
        "colab": {
          "base_uri": "https://localhost:8080/"
        },
        "id": "tu-fxCIMsPFx",
        "outputId": "401da16e-5224-40f4-d34d-dc3686e2f422"
      },
      "execution_count": null,
      "outputs": [
        {
          "output_type": "stream",
          "name": "stdout",
          "text": [
            "151.0\n"
          ]
        }
      ]
    },
    {
      "cell_type": "code",
      "source": [
        "w_inc = w + 0.1\n",
        "y_hat_inc = x[0] * w_inc + b\n",
        "print(y_hat_inc)"
      ],
      "metadata": {
        "colab": {
          "base_uri": "https://localhost:8080/"
        },
        "id": "Ux343bnhtLKC",
        "outputId": "deafd131-6c3f-46d6-e0bf-f66402811f6b"
      },
      "execution_count": null,
      "outputs": [
        {
          "output_type": "stream",
          "name": "stdout",
          "text": [
            "1.0678658271705517\n"
          ]
        }
      ]
    },
    {
      "cell_type": "code",
      "source": [
        "w_rate = (y_hat_inc - y_hat) / (w_inc - w)\n",
        "print(w_rate)"
      ],
      "metadata": {
        "colab": {
          "base_uri": "https://localhost:8080/"
        },
        "id": "lzRIj_TztL9B",
        "outputId": "f449efb0-5822-452d-8f6b-36b52c6136ea"
      },
      "execution_count": null,
      "outputs": [
        {
          "output_type": "stream",
          "name": "stdout",
          "text": [
            "0.06169620651868429\n"
          ]
        }
      ]
    },
    {
      "cell_type": "code",
      "source": [],
      "metadata": {
        "id": "3frF5FUsuStL"
      },
      "execution_count": null,
      "outputs": []
    }
  ]
}